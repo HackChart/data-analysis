{
 "cells": [
  {
   "cell_type": "markdown",
   "metadata": {},
   "source": [
    "# Data Analysis for Pokemon  \n",
    "![Pikachu](https://pbs.twimg.com/profile_images/1212398377553412096/HaWAuh90_400x400.jpg)  \n",
    "## What Questions Should We Ask?\n",
    "---\n",
    "- What is the strongest Pokemon in terms of overall stats?\n",
    "- What is the most effective move typing?\n",
    "    - Which is the least effective?\n",
    "- Which Pokemon has the highest IV for:\n",
    "    - Attack\n",
    "    - Special Attack \n",
    "    - Defense\n",
    "    - Special Defense\n",
    "    - Speed\n",
    "    - HP\n",
    "- Which typing has the highest average IV's for:\n",
    "    - Attack\n",
    "    - Special Attack\n",
    "    - Defense\n",
    "    - Special Defense\n",
    "    - Speed\n",
    "    - HP\n",
    "- Which typing has the most Pokemon over 600 IV?\n",
    "- Does typing have any bearing on IV's?\n",
    "    - Do fire types have stronger than average special attack?\n",
    "    - Do dragon types have stronger than average attack?\n",
    "    - Do rock, ground, steel types have stronger than average defense?\n",
    "- What single typing has the least amount of weaknesses?\n",
    "- What single typing has the highest number of weaknesses?\n",
    "- What about dual typings? (Not all dual typings are currently in the game)\n",
    "- Are there correlations between IV's and certain non-IV characteristics?\n",
    "    - Weight and defense/hp?\n",
    "    - Weight and overall total stats? (Do legendaries weigh more?)\n",
    "    - Total stats and experience gain?\n",
    "    - Total stats and steps-to-hatch?\n",
    "  \n",
    "## What Data Do We Need?\n",
    "--- \n",
    "- Basic information:\n",
    "    - Number \n",
    "    - Name \n",
    "- Statistically Relevant Information:\n",
    "    - Typing \n",
    "    - Stats:\n",
    "        - Attack\n",
    "        - Special Attack \n",
    "        - Defense\n",
    "        - Special Defense\n",
    "        - Speed\n",
    "        - HP\n",
    "        - Total IV's\n",
    "    - Weight\n",
    "    - Experience gain\n",
    "    - Steps to hatch \n"
   ]
  },
  {
   "cell_type": "code",
   "execution_count": null,
   "metadata": {},
   "outputs": [],
   "source": []
  }
 ],
 "metadata": {
  "file_extension": ".py",
  "kernelspec": {
   "display_name": "Python 3",
   "language": "python",
   "name": "python3"
  },
  "language_info": {
   "codemirror_mode": {
    "name": "ipython",
    "version": 3
   },
   "file_extension": ".py",
   "mimetype": "text/x-python",
   "name": "python",
   "nbconvert_exporter": "python",
   "pygments_lexer": "ipython3",
   "version": "3.7.3"
  },
  "mimetype": "text/x-python",
  "name": "python",
  "npconvert_exporter": "python",
  "pygments_lexer": "ipython3",
  "version": 3
 },
 "nbformat": 4,
 "nbformat_minor": 4
}
