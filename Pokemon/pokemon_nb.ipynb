{
 "nbformat": 4,
 "nbformat_minor": 2,
 "metadata": {
  "language_info": {
   "name": "python",
   "codemirror_mode": {
    "name": "ipython",
    "version": 3
   },
   "version": "3.7.4-final"
  },
  "orig_nbformat": 2,
  "file_extension": ".py",
  "mimetype": "text/x-python",
  "name": "python",
  "npconvert_exporter": "python",
  "pygments_lexer": "ipython3",
  "version": 3,
  "kernelspec": {
   "name": "python37432bit9fa011013f6b45f8bb5d3ed00d6789ea",
   "display_name": "Python 3.7.4 32-bit"
  }
 },
 "cells": [
  {
   "cell_type": "markdown",
   "execution_count": null,
   "metadata": {},
   "outputs": [],
   "source": [
    "# Pokemon Data Analysis\n",
    "---\n",
    "Introduction to Data Analysis in python using `pandas`, `numpy`, and `matplotlib`. \n",
    "\n",
    "All data drawn from Kaggle's \"Complete Pokemon Dataset\" for Generations 1 - 7 and a web scraping of Serebii.net for Gen 8.\n",
    "The sites for the original datasets are listed below: \n",
    "- [Generations 1 - 7](https://www.kaggle.com/rounakbanik/pokemon/version/1)\n",
    "- [Generation 8](https://github.com/yaylinda/serebii-parser)  \n",
    "  \n",
    "![Pokeball](https://image.businessinsider.com/5dcee8473afd37158f6c8ab9?width=1100&format=jpeg&auto=webp)"
   ]
  },
  {
   "cell_type": "markdown",
   "execution_count": null,
   "metadata": {},
   "outputs": [],
   "source": [
    "## Installing Dependencies\n",
    "--- \n",
    "First, we need to make sure that we have access to the libraries that we need. There are a couple of ways that we could do this, one of which involves conda, but I like `pip`. `Pip`, or the Python Installer Package, solves this pretty easily in a couple lines. "
   ]
  },
  {
   "cell_type": "code",
   "execution_count": 1,
   "metadata": {},
   "outputs": [
    {
     "name": "stdout",
     "output_type": "stream",
     "text": "Requirement already satisfied: pandas in c:\\users\\apollo\\appdata\\local\\programs\\python\\python37-32\\lib\\site-packages (0.25.3)\nRequirement already satisfied: python-dateutil>=2.6.1 in c:\\users\\apollo\\appdata\\roaming\\python\\python37\\site-packages (from pandas) (2.8.1)\nRequirement already satisfied: numpy>=1.13.3 in c:\\users\\apollo\\appdata\\local\\programs\\python\\python37-32\\lib\\site-packages (from pandas) (1.18.1)\nRequirement already satisfied: pytz>=2017.2 in c:\\users\\apollo\\appdata\\local\\programs\\python\\python37-32\\lib\\site-packages (from pandas) (2019.3)\nRequirement already satisfied: six>=1.5 in c:\\users\\apollo\\appdata\\roaming\\python\\python37\\site-packages (from python-dateutil>=2.6.1->pandas) (1.12.0)\nRequirement already satisfied: matplotlib in c:\\users\\apollo\\appdata\\local\\programs\\python\\python37-32\\lib\\site-packages (3.1.2)\nRequirement already satisfied: pyparsing!=2.0.4,!=2.1.2,!=2.1.6,>=2.0.1 in c:\\users\\apollo\\appdata\\local\\programs\\python\\python37-32\\lib\\site-packages (from matplotlib) (2.4.6)\nRequirement already satisfied: kiwisolver>=1.0.1 in c:\\users\\apollo\\appdata\\local\\programs\\python\\python37-32\\lib\\site-packages (from matplotlib) (1.1.0)\nRequirement already satisfied: cycler>=0.10 in c:\\users\\apollo\\appdata\\local\\programs\\python\\python37-32\\lib\\site-packages (from matplotlib) (0.10.0)\nRequirement already satisfied: numpy>=1.11 in c:\\users\\apollo\\appdata\\local\\programs\\python\\python37-32\\lib\\site-packages (from matplotlib) (1.18.1)\nRequirement already satisfied: python-dateutil>=2.1 in c:\\users\\apollo\\appdata\\roaming\\python\\python37\\site-packages (from matplotlib) (2.8.1)\nRequirement already satisfied: setuptools in c:\\users\\apollo\\appdata\\local\\programs\\python\\python37-32\\lib\\site-packages (from kiwisolver>=1.0.1->matplotlib) (40.8.0)\nRequirement already satisfied: six in c:\\users\\apollo\\appdata\\roaming\\python\\python37\\site-packages (from cycler>=0.10->matplotlib) (1.12.0)\n"
    }
   ],
   "source": [
    "# Install a pip package in the current Jupyter kernel\n",
    "import sys\n",
    "!{sys.executable} -m pip install pandas\n",
    "!{sys.executable} -m pip install matplotlib"
   ]
  },
  {
   "cell_type": "markdown",
   "execution_count": null,
   "metadata": {},
   "outputs": [],
   "source": [
    "## Importing The Proper Libraries\n",
    "---\n",
    "For this analysis, I'm going to be using `pandas` to interact with the data. Below, we will import the proper libraries and use the preferred shorthand notation for them. \"`pd`\" is common for pandas, while \"`np`\" and \"`plt`\" are common substitions for numpy and matplotlib's plotting functionality. `Regex` or \"`re`\" is also imported for some more complex sorting, but more on that later. "
   ]
  },
  {
   "cell_type": "code",
   "execution_count": 2,
   "metadata": {},
   "outputs": [],
   "source": [
    "# import pandas and numpy for data analysis\n",
    "import pandas as pd\n",
    "import numpy as np \n",
    "import matplotlib.pyplot as plt\n",
    "import re # TODO: update md documentation"
   ]
  },
  {
   "cell_type": "markdown",
   "execution_count": null,
   "metadata": {},
   "outputs": [],
   "source": [
    "## Reading The Data Into The Notebook\n",
    "Pandas has a handy set of functions called read_{file extension} that allows you to import your data into a workable format called a dataframe. Both of my files are .CSV, but there are plenty of other supported extensions, including excel and standard .txt files.  "
   ]
  },
  {
   "cell_type": "code",
   "execution_count": 3,
   "metadata": {},
   "outputs": [],
   "source": [
    "# Use pandas to read the csv file into a dataframe for the first 7 generations\n",
    "gen17 = pd.read_csv(\"pokemon.csv\")"
   ]
  },
  {
   "cell_type": "code",
   "execution_count": 14,
   "metadata": {},
   "outputs": [
    {
     "data": {
      "text/html": "<div>\n<style scoped>\n    .dataframe tbody tr th:only-of-type {\n        vertical-align: middle;\n    }\n\n    .dataframe tbody tr th {\n        vertical-align: top;\n    }\n\n    .dataframe thead th {\n        text-align: right;\n    }\n</style>\n<table border=\"1\" class=\"dataframe\">\n  <thead>\n    <tr style=\"text-align: right;\">\n      <th></th>\n      <th>abilities</th>\n      <th>against_bug</th>\n      <th>against_dark</th>\n      <th>against_dragon</th>\n      <th>against_electric</th>\n      <th>against_fairy</th>\n      <th>against_fight</th>\n      <th>against_fire</th>\n      <th>against_flying</th>\n      <th>against_ghost</th>\n      <th>...</th>\n      <th>percentage_male</th>\n      <th>pokedex_number</th>\n      <th>sp_attack</th>\n      <th>sp_defense</th>\n      <th>speed</th>\n      <th>type1</th>\n      <th>type2</th>\n      <th>weight_kg</th>\n      <th>generation</th>\n      <th>is_legendary</th>\n    </tr>\n  </thead>\n  <tbody>\n    <tr>\n      <th>0</th>\n      <td>['Overgrow', 'Chlorophyll']</td>\n      <td>1.00</td>\n      <td>1.0</td>\n      <td>1.0</td>\n      <td>0.5</td>\n      <td>0.5</td>\n      <td>0.5</td>\n      <td>2.0</td>\n      <td>2.0</td>\n      <td>1.0</td>\n      <td>...</td>\n      <td>88.1</td>\n      <td>1</td>\n      <td>65</td>\n      <td>65</td>\n      <td>45</td>\n      <td>grass</td>\n      <td>poison</td>\n      <td>6.9</td>\n      <td>1</td>\n      <td>0</td>\n    </tr>\n    <tr>\n      <th>1</th>\n      <td>['Overgrow', 'Chlorophyll']</td>\n      <td>1.00</td>\n      <td>1.0</td>\n      <td>1.0</td>\n      <td>0.5</td>\n      <td>0.5</td>\n      <td>0.5</td>\n      <td>2.0</td>\n      <td>2.0</td>\n      <td>1.0</td>\n      <td>...</td>\n      <td>88.1</td>\n      <td>2</td>\n      <td>80</td>\n      <td>80</td>\n      <td>60</td>\n      <td>grass</td>\n      <td>poison</td>\n      <td>13.0</td>\n      <td>1</td>\n      <td>0</td>\n    </tr>\n    <tr>\n      <th>2</th>\n      <td>['Overgrow', 'Chlorophyll']</td>\n      <td>1.00</td>\n      <td>1.0</td>\n      <td>1.0</td>\n      <td>0.5</td>\n      <td>0.5</td>\n      <td>0.5</td>\n      <td>2.0</td>\n      <td>2.0</td>\n      <td>1.0</td>\n      <td>...</td>\n      <td>88.1</td>\n      <td>3</td>\n      <td>122</td>\n      <td>120</td>\n      <td>80</td>\n      <td>grass</td>\n      <td>poison</td>\n      <td>100.0</td>\n      <td>1</td>\n      <td>0</td>\n    </tr>\n    <tr>\n      <th>3</th>\n      <td>['Blaze', 'Solar Power']</td>\n      <td>0.50</td>\n      <td>1.0</td>\n      <td>1.0</td>\n      <td>1.0</td>\n      <td>0.5</td>\n      <td>1.0</td>\n      <td>0.5</td>\n      <td>1.0</td>\n      <td>1.0</td>\n      <td>...</td>\n      <td>88.1</td>\n      <td>4</td>\n      <td>60</td>\n      <td>50</td>\n      <td>65</td>\n      <td>fire</td>\n      <td>NaN</td>\n      <td>8.5</td>\n      <td>1</td>\n      <td>0</td>\n    </tr>\n    <tr>\n      <th>4</th>\n      <td>['Blaze', 'Solar Power']</td>\n      <td>0.50</td>\n      <td>1.0</td>\n      <td>1.0</td>\n      <td>1.0</td>\n      <td>0.5</td>\n      <td>1.0</td>\n      <td>0.5</td>\n      <td>1.0</td>\n      <td>1.0</td>\n      <td>...</td>\n      <td>88.1</td>\n      <td>5</td>\n      <td>80</td>\n      <td>65</td>\n      <td>80</td>\n      <td>fire</td>\n      <td>NaN</td>\n      <td>19.0</td>\n      <td>1</td>\n      <td>0</td>\n    </tr>\n    <tr>\n      <th>...</th>\n      <td>...</td>\n      <td>...</td>\n      <td>...</td>\n      <td>...</td>\n      <td>...</td>\n      <td>...</td>\n      <td>...</td>\n      <td>...</td>\n      <td>...</td>\n      <td>...</td>\n      <td>...</td>\n      <td>...</td>\n      <td>...</td>\n      <td>...</td>\n      <td>...</td>\n      <td>...</td>\n      <td>...</td>\n      <td>...</td>\n      <td>...</td>\n      <td>...</td>\n      <td>...</td>\n    </tr>\n    <tr>\n      <th>796</th>\n      <td>['Beast Boost']</td>\n      <td>0.25</td>\n      <td>1.0</td>\n      <td>0.5</td>\n      <td>2.0</td>\n      <td>0.5</td>\n      <td>1.0</td>\n      <td>2.0</td>\n      <td>0.5</td>\n      <td>1.0</td>\n      <td>...</td>\n      <td>NaN</td>\n      <td>797</td>\n      <td>107</td>\n      <td>101</td>\n      <td>61</td>\n      <td>steel</td>\n      <td>flying</td>\n      <td>999.9</td>\n      <td>7</td>\n      <td>1</td>\n    </tr>\n    <tr>\n      <th>797</th>\n      <td>['Beast Boost']</td>\n      <td>1.00</td>\n      <td>1.0</td>\n      <td>0.5</td>\n      <td>0.5</td>\n      <td>0.5</td>\n      <td>2.0</td>\n      <td>4.0</td>\n      <td>1.0</td>\n      <td>1.0</td>\n      <td>...</td>\n      <td>NaN</td>\n      <td>798</td>\n      <td>59</td>\n      <td>31</td>\n      <td>109</td>\n      <td>grass</td>\n      <td>steel</td>\n      <td>0.1</td>\n      <td>7</td>\n      <td>1</td>\n    </tr>\n    <tr>\n      <th>798</th>\n      <td>['Beast Boost']</td>\n      <td>2.00</td>\n      <td>0.5</td>\n      <td>2.0</td>\n      <td>0.5</td>\n      <td>4.0</td>\n      <td>2.0</td>\n      <td>0.5</td>\n      <td>1.0</td>\n      <td>0.5</td>\n      <td>...</td>\n      <td>NaN</td>\n      <td>799</td>\n      <td>97</td>\n      <td>53</td>\n      <td>43</td>\n      <td>dark</td>\n      <td>dragon</td>\n      <td>888.0</td>\n      <td>7</td>\n      <td>1</td>\n    </tr>\n    <tr>\n      <th>799</th>\n      <td>['Prism Armor']</td>\n      <td>2.00</td>\n      <td>2.0</td>\n      <td>1.0</td>\n      <td>1.0</td>\n      <td>1.0</td>\n      <td>0.5</td>\n      <td>1.0</td>\n      <td>1.0</td>\n      <td>2.0</td>\n      <td>...</td>\n      <td>NaN</td>\n      <td>800</td>\n      <td>127</td>\n      <td>89</td>\n      <td>79</td>\n      <td>psychic</td>\n      <td>NaN</td>\n      <td>230.0</td>\n      <td>7</td>\n      <td>1</td>\n    </tr>\n    <tr>\n      <th>800</th>\n      <td>['Soul-Heart']</td>\n      <td>0.25</td>\n      <td>0.5</td>\n      <td>0.0</td>\n      <td>1.0</td>\n      <td>0.5</td>\n      <td>1.0</td>\n      <td>2.0</td>\n      <td>0.5</td>\n      <td>1.0</td>\n      <td>...</td>\n      <td>NaN</td>\n      <td>801</td>\n      <td>130</td>\n      <td>115</td>\n      <td>65</td>\n      <td>steel</td>\n      <td>fairy</td>\n      <td>80.5</td>\n      <td>7</td>\n      <td>1</td>\n    </tr>\n  </tbody>\n</table>\n<p>801 rows × 41 columns</p>\n</div>",
      "text/plain": "                       abilities  against_bug  against_dark  against_dragon  \\\n0    ['Overgrow', 'Chlorophyll']         1.00           1.0             1.0   \n1    ['Overgrow', 'Chlorophyll']         1.00           1.0             1.0   \n2    ['Overgrow', 'Chlorophyll']         1.00           1.0             1.0   \n3       ['Blaze', 'Solar Power']         0.50           1.0             1.0   \n4       ['Blaze', 'Solar Power']         0.50           1.0             1.0   \n..                           ...          ...           ...             ...   \n796              ['Beast Boost']         0.25           1.0             0.5   \n797              ['Beast Boost']         1.00           1.0             0.5   \n798              ['Beast Boost']         2.00           0.5             2.0   \n799              ['Prism Armor']         2.00           2.0             1.0   \n800               ['Soul-Heart']         0.25           0.5             0.0   \n\n     against_electric  against_fairy  against_fight  against_fire  \\\n0                 0.5            0.5            0.5           2.0   \n1                 0.5            0.5            0.5           2.0   \n2                 0.5            0.5            0.5           2.0   \n3                 1.0            0.5            1.0           0.5   \n4                 1.0            0.5            1.0           0.5   \n..                ...            ...            ...           ...   \n796               2.0            0.5            1.0           2.0   \n797               0.5            0.5            2.0           4.0   \n798               0.5            4.0            2.0           0.5   \n799               1.0            1.0            0.5           1.0   \n800               1.0            0.5            1.0           2.0   \n\n     against_flying  against_ghost  ...  percentage_male  pokedex_number  \\\n0               2.0            1.0  ...             88.1               1   \n1               2.0            1.0  ...             88.1               2   \n2               2.0            1.0  ...             88.1               3   \n3               1.0            1.0  ...             88.1               4   \n4               1.0            1.0  ...             88.1               5   \n..              ...            ...  ...              ...             ...   \n796             0.5            1.0  ...              NaN             797   \n797             1.0            1.0  ...              NaN             798   \n798             1.0            0.5  ...              NaN             799   \n799             1.0            2.0  ...              NaN             800   \n800             0.5            1.0  ...              NaN             801   \n\n     sp_attack  sp_defense  speed    type1   type2  weight_kg  generation  \\\n0           65          65     45    grass  poison        6.9           1   \n1           80          80     60    grass  poison       13.0           1   \n2          122         120     80    grass  poison      100.0           1   \n3           60          50     65     fire     NaN        8.5           1   \n4           80          65     80     fire     NaN       19.0           1   \n..         ...         ...    ...      ...     ...        ...         ...   \n796        107         101     61    steel  flying      999.9           7   \n797         59          31    109    grass   steel        0.1           7   \n798         97          53     43     dark  dragon      888.0           7   \n799        127          89     79  psychic     NaN      230.0           7   \n800        130         115     65    steel   fairy       80.5           7   \n\n     is_legendary  \n0               0  \n1               0  \n2               0  \n3               0  \n4               0  \n..            ...  \n796             1  \n797             1  \n798             1  \n799             1  \n800             1  \n\n[801 rows x 41 columns]"
     },
     "execution_count": 14,
     "metadata": {},
     "output_type": "execute_result"
    }
   ],
   "source": [
    "# Notice that since notebook runs in an interactive environment, we don't have to use print() to show the output. We can just call the variable we want to see, similar to how we would in the REPL. \n",
    "gen17"
   ]
  },
  {
   "cell_type": "code",
   "execution_count": 5,
   "metadata": {},
   "outputs": [
    {
     "data": {
      "text/plain": "pandas.core.frame.DataFrame"
     },
     "execution_count": 5,
     "metadata": {},
     "output_type": "execute_result"
    }
   ],
   "source": [
    "# Data is read into a pandas object called a dataframe\n",
    "type(gen17)"
   ]
  },
  {
   "cell_type": "code",
   "execution_count": 6,
   "metadata": {},
   "outputs": [],
   "source": [
    "# Create a second dataframe containing the scaped gen 8 data\n",
    "gen8 = pd.read_csv(\"gen8.csv\")"
   ]
  },
  {
   "cell_type": "code",
   "execution_count": 7,
   "metadata": {},
   "outputs": [
    {
     "data": {
      "text/html": "<div>\n<style scoped>\n    .dataframe tbody tr th:only-of-type {\n        vertical-align: middle;\n    }\n\n    .dataframe tbody tr th {\n        vertical-align: top;\n    }\n\n    .dataframe thead th {\n        text-align: right;\n    }\n</style>\n<table border=\"1\" class=\"dataframe\">\n  <thead>\n    <tr style=\"text-align: right;\">\n      <th></th>\n      <th>id</th>\n      <th>name</th>\n      <th>pokemon_url</th>\n      <th>types</th>\n      <th>abilities</th>\n      <th>image_src</th>\n      <th>stats</th>\n      <th>moves</th>\n    </tr>\n  </thead>\n  <tbody>\n    <tr>\n      <th>0</th>\n      <td>810</td>\n      <td>Grookey</td>\n      <td>/pokedex-swsh/grookey/</td>\n      <td>['grass']</td>\n      <td>['Overgrow', 'Grassy Surge']</td>\n      <td>/swordshield/pokemon/small/810.png</td>\n      <td>['50', '65', '50', '40', '40', '65']</td>\n      <td>[{'name': 'Scratch', 'type': 'normal', 'catego...</td>\n    </tr>\n    <tr>\n      <th>1</th>\n      <td>811</td>\n      <td>Thwackey</td>\n      <td>/pokedex-swsh/thwackey/</td>\n      <td>['grass']</td>\n      <td>['Overgrow', 'Grassy Surge']</td>\n      <td>/swordshield/pokemon/small/811.png</td>\n      <td>['70', '85', '70', '55', '60', '80']</td>\n      <td>[{'name': 'Double Hit', 'type': 'normal', 'cat...</td>\n    </tr>\n    <tr>\n      <th>2</th>\n      <td>812</td>\n      <td>Rillaboom</td>\n      <td>/pokedex-swsh/rillaboom/</td>\n      <td>['grass']</td>\n      <td>['Overgrow', 'Grassy Surge']</td>\n      <td>/swordshield/pokemon/small/812.png</td>\n      <td>['100', '125', '90', '60', '70', '85']</td>\n      <td>[{'name': 'Drum Beating', 'type': 'grass', 'ca...</td>\n    </tr>\n    <tr>\n      <th>3</th>\n      <td>813</td>\n      <td>Scorbunny</td>\n      <td>/pokedex-swsh/scorbunny/</td>\n      <td>['fire']</td>\n      <td>['Blaze', 'Libero']</td>\n      <td>/swordshield/pokemon/small/813.png</td>\n      <td>['50', '71', '40', '40', '40', '69']</td>\n      <td>[{'name': 'Tackle', 'type': 'normal', 'categor...</td>\n    </tr>\n    <tr>\n      <th>4</th>\n      <td>814</td>\n      <td>Raboot</td>\n      <td>/pokedex-swsh/raboot/</td>\n      <td>['fire']</td>\n      <td>['Blaze', 'Libero']</td>\n      <td>/swordshield/pokemon/small/814.png</td>\n      <td>['65', '86', '60', '55', '60', '94']</td>\n      <td>[{'name': 'Tackle', 'type': 'normal', 'categor...</td>\n    </tr>\n    <tr>\n      <th>...</th>\n      <td>...</td>\n      <td>...</td>\n      <td>...</td>\n      <td>...</td>\n      <td>...</td>\n      <td>...</td>\n      <td>...</td>\n      <td>...</td>\n    </tr>\n    <tr>\n      <th>394</th>\n      <td>885</td>\n      <td>Dreepy</td>\n      <td>/pokedex-swsh/dreepy/</td>\n      <td>['dragon', 'ghost']</td>\n      <td>['Clear Body', 'Infiltrator', 'Cursed Body']</td>\n      <td>/swordshield/pokemon/small/885.png</td>\n      <td>['28', '60', '30', '40', '30', '82']</td>\n      <td>[{'name': 'Astonish', 'type': 'ghost', 'catego...</td>\n    </tr>\n    <tr>\n      <th>395</th>\n      <td>886</td>\n      <td>Drakloak</td>\n      <td>/pokedex-swsh/drakloak/</td>\n      <td>['dragon', 'ghost']</td>\n      <td>['Clear Body', 'Infiltrator', 'Cursed Body']</td>\n      <td>/swordshield/pokemon/small/886.png</td>\n      <td>['68', '80', '50', '60', '50', '102']</td>\n      <td>[{'name': 'Dragon Pulse', 'type': 'dragon', 'c...</td>\n    </tr>\n    <tr>\n      <th>396</th>\n      <td>887</td>\n      <td>Dragapult</td>\n      <td>/pokedex-swsh/dragapult/</td>\n      <td>['dragon', 'ghost']</td>\n      <td>['Clear Body', 'Infiltrator', 'Cursed Body']</td>\n      <td>/swordshield/pokemon/small/887.png</td>\n      <td>['88', '120', '75', '100', '75', '142']</td>\n      <td>[{'name': 'Dragon Darts', 'type': 'dragon', 'c...</td>\n    </tr>\n    <tr>\n      <th>397</th>\n      <td>888</td>\n      <td>Zacian</td>\n      <td>/pokedex-swsh/zacian/</td>\n      <td>['fairy']</td>\n      <td>['Intrepid Sword']</td>\n      <td>/swordshield/pokemon/small/888.png</td>\n      <td>['92', '130', '115', '80', '115', '138']</td>\n      <td>[{'name': 'Sacred Sword', 'type': 'fighting', ...</td>\n    </tr>\n    <tr>\n      <th>398</th>\n      <td>889</td>\n      <td>Zamazenta</td>\n      <td>/pokedex-swsh/zamazenta/</td>\n      <td>['fighting']</td>\n      <td>['Dauntless Shield']</td>\n      <td>/swordshield/pokemon/small/889.png</td>\n      <td>['92', '130', '115', '80', '115', '138']</td>\n      <td>[{'name': 'Metal Burst', 'type': 'steel', 'cat...</td>\n    </tr>\n  </tbody>\n</table>\n<p>399 rows × 8 columns</p>\n</div>",
      "text/plain": "      id       name               pokemon_url                types  \\\n0    810    Grookey    /pokedex-swsh/grookey/            ['grass']   \n1    811   Thwackey   /pokedex-swsh/thwackey/            ['grass']   \n2    812  Rillaboom  /pokedex-swsh/rillaboom/            ['grass']   \n3    813  Scorbunny  /pokedex-swsh/scorbunny/             ['fire']   \n4    814     Raboot     /pokedex-swsh/raboot/             ['fire']   \n..   ...        ...                       ...                  ...   \n394  885     Dreepy     /pokedex-swsh/dreepy/  ['dragon', 'ghost']   \n395  886   Drakloak   /pokedex-swsh/drakloak/  ['dragon', 'ghost']   \n396  887  Dragapult  /pokedex-swsh/dragapult/  ['dragon', 'ghost']   \n397  888     Zacian     /pokedex-swsh/zacian/            ['fairy']   \n398  889  Zamazenta  /pokedex-swsh/zamazenta/         ['fighting']   \n\n                                        abilities  \\\n0                    ['Overgrow', 'Grassy Surge']   \n1                    ['Overgrow', 'Grassy Surge']   \n2                    ['Overgrow', 'Grassy Surge']   \n3                             ['Blaze', 'Libero']   \n4                             ['Blaze', 'Libero']   \n..                                            ...   \n394  ['Clear Body', 'Infiltrator', 'Cursed Body']   \n395  ['Clear Body', 'Infiltrator', 'Cursed Body']   \n396  ['Clear Body', 'Infiltrator', 'Cursed Body']   \n397                            ['Intrepid Sword']   \n398                          ['Dauntless Shield']   \n\n                              image_src  \\\n0    /swordshield/pokemon/small/810.png   \n1    /swordshield/pokemon/small/811.png   \n2    /swordshield/pokemon/small/812.png   \n3    /swordshield/pokemon/small/813.png   \n4    /swordshield/pokemon/small/814.png   \n..                                  ...   \n394  /swordshield/pokemon/small/885.png   \n395  /swordshield/pokemon/small/886.png   \n396  /swordshield/pokemon/small/887.png   \n397  /swordshield/pokemon/small/888.png   \n398  /swordshield/pokemon/small/889.png   \n\n                                        stats  \\\n0        ['50', '65', '50', '40', '40', '65']   \n1        ['70', '85', '70', '55', '60', '80']   \n2      ['100', '125', '90', '60', '70', '85']   \n3        ['50', '71', '40', '40', '40', '69']   \n4        ['65', '86', '60', '55', '60', '94']   \n..                                        ...   \n394      ['28', '60', '30', '40', '30', '82']   \n395     ['68', '80', '50', '60', '50', '102']   \n396   ['88', '120', '75', '100', '75', '142']   \n397  ['92', '130', '115', '80', '115', '138']   \n398  ['92', '130', '115', '80', '115', '138']   \n\n                                                 moves  \n0    [{'name': 'Scratch', 'type': 'normal', 'catego...  \n1    [{'name': 'Double Hit', 'type': 'normal', 'cat...  \n2    [{'name': 'Drum Beating', 'type': 'grass', 'ca...  \n3    [{'name': 'Tackle', 'type': 'normal', 'categor...  \n4    [{'name': 'Tackle', 'type': 'normal', 'categor...  \n..                                                 ...  \n394  [{'name': 'Astonish', 'type': 'ghost', 'catego...  \n395  [{'name': 'Dragon Pulse', 'type': 'dragon', 'c...  \n396  [{'name': 'Dragon Darts', 'type': 'dragon', 'c...  \n397  [{'name': 'Sacred Sword', 'type': 'fighting', ...  \n398  [{'name': 'Metal Burst', 'type': 'steel', 'cat...  \n\n[399 rows x 8 columns]"
     },
     "execution_count": 7,
     "metadata": {},
     "output_type": "execute_result"
    }
   ],
   "source": [
    "gen8"
   ]
  },
  {
   "cell_type": "code",
   "execution_count": 8,
   "metadata": {},
   "outputs": [
    {
     "data": {
      "text/plain": "id                                                           810\nname                                                     Grookey\npokemon_url                               /pokedex-swsh/grookey/\ntypes                                                  ['grass']\nabilities                           ['Overgrow', 'Grassy Surge']\nimage_src                     /swordshield/pokemon/small/810.png\nstats                       ['50', '65', '50', '40', '40', '65']\nmoves          [{'name': 'Scratch', 'type': 'normal', 'catego...\nName: 0, dtype: object"
     },
     "execution_count": 8,
     "metadata": {},
     "output_type": "execute_result"
    }
   ],
   "source": [
    "# Using iloc and the corresponding integer of the row that we want, pandas will return the row as a series\n",
    "grookey_series = gen8.iloc[0]\n",
    "grookey_series"
   ]
  },
  {
   "cell_type": "code",
   "execution_count": 9,
   "metadata": {},
   "outputs": [
    {
     "data": {
      "text/plain": "pandas.core.series.Series"
     },
     "execution_count": 9,
     "metadata": {},
     "output_type": "execute_result"
    }
   ],
   "source": [
    "type(grookey_series)"
   ]
  },
  {
   "cell_type": "code",
   "execution_count": 10,
   "metadata": {},
   "outputs": [
    {
     "data": {
      "text/html": "<div>\n<style scoped>\n    .dataframe tbody tr th:only-of-type {\n        vertical-align: middle;\n    }\n\n    .dataframe tbody tr th {\n        vertical-align: top;\n    }\n\n    .dataframe thead th {\n        text-align: right;\n    }\n</style>\n<table border=\"1\" class=\"dataframe\">\n  <thead>\n    <tr style=\"text-align: right;\">\n      <th></th>\n      <th>id</th>\n      <th>name</th>\n      <th>pokemon_url</th>\n      <th>types</th>\n      <th>abilities</th>\n      <th>image_src</th>\n      <th>stats</th>\n      <th>moves</th>\n    </tr>\n  </thead>\n  <tbody>\n    <tr>\n      <th>0</th>\n      <td>810</td>\n      <td>Grookey</td>\n      <td>/pokedex-swsh/grookey/</td>\n      <td>['grass']</td>\n      <td>['Overgrow', 'Grassy Surge']</td>\n      <td>/swordshield/pokemon/small/810.png</td>\n      <td>['50', '65', '50', '40', '40', '65']</td>\n      <td>[{'name': 'Scratch', 'type': 'normal', 'catego...</td>\n    </tr>\n  </tbody>\n</table>\n</div>",
      "text/plain": "    id     name             pokemon_url      types  \\\n0  810  Grookey  /pokedex-swsh/grookey/  ['grass']   \n\n                      abilities                           image_src  \\\n0  ['Overgrow', 'Grassy Surge']  /swordshield/pokemon/small/810.png   \n\n                                  stats  \\\n0  ['50', '65', '50', '40', '40', '65']   \n\n                                               moves  \n0  [{'name': 'Scratch', 'type': 'normal', 'catego...  "
     },
     "execution_count": 10,
     "metadata": {},
     "output_type": "execute_result"
    }
   ],
   "source": [
    "# Use nested list structure to format grookey's data as its own dataframe\n",
    "grookey_table = gen8.iloc[[0]]\n",
    "grookey_table"
   ]
  },
  {
   "cell_type": "code",
   "execution_count": 11,
   "metadata": {},
   "outputs": [
    {
     "data": {
      "text/plain": "pandas.core.frame.DataFrame"
     },
     "execution_count": 11,
     "metadata": {},
     "output_type": "execute_result"
    }
   ],
   "source": [
    "type(grookey_table)"
   ]
  },
  {
   "cell_type": "markdown",
   "execution_count": null,
   "metadata": {},
   "outputs": [],
   "source": [
    "## Basic Navigation  \n",
    "---\n",
    "However, notice that these datasets are quite large, especially gens 1 - 7, with over 800 rows and 41 columns. As such, not all of it is shown in the output cell. Fortunately, `pandas` has a couple helpful methods that we can use to view the parts we want to see."
   ]
  },
  {
   "cell_type": "markdown",
   "execution_count": null,
   "metadata": {},
   "outputs": [],
   "source": [
    "First up, `.head()`. By default, this will display the first 5 rows of the dataframe, however, you can change this by adding a numerical argument for the number of rows you wish to view.  "
   ]
  },
  {
   "cell_type": "code",
   "execution_count": 16,
   "metadata": {},
   "outputs": [
    {
     "data": {
      "text/html": "<div>\n<style scoped>\n    .dataframe tbody tr th:only-of-type {\n        vertical-align: middle;\n    }\n\n    .dataframe tbody tr th {\n        vertical-align: top;\n    }\n\n    .dataframe thead th {\n        text-align: right;\n    }\n</style>\n<table border=\"1\" class=\"dataframe\">\n  <thead>\n    <tr style=\"text-align: right;\">\n      <th></th>\n      <th>abilities</th>\n      <th>against_bug</th>\n      <th>against_dark</th>\n      <th>against_dragon</th>\n      <th>against_electric</th>\n      <th>against_fairy</th>\n      <th>against_fight</th>\n      <th>against_fire</th>\n      <th>against_flying</th>\n      <th>against_ghost</th>\n      <th>...</th>\n      <th>percentage_male</th>\n      <th>pokedex_number</th>\n      <th>sp_attack</th>\n      <th>sp_defense</th>\n      <th>speed</th>\n      <th>type1</th>\n      <th>type2</th>\n      <th>weight_kg</th>\n      <th>generation</th>\n      <th>is_legendary</th>\n    </tr>\n  </thead>\n  <tbody>\n    <tr>\n      <th>0</th>\n      <td>['Overgrow', 'Chlorophyll']</td>\n      <td>1.0</td>\n      <td>1.0</td>\n      <td>1.0</td>\n      <td>0.5</td>\n      <td>0.5</td>\n      <td>0.5</td>\n      <td>2.0</td>\n      <td>2.0</td>\n      <td>1.0</td>\n      <td>...</td>\n      <td>88.1</td>\n      <td>1</td>\n      <td>65</td>\n      <td>65</td>\n      <td>45</td>\n      <td>grass</td>\n      <td>poison</td>\n      <td>6.9</td>\n      <td>1</td>\n      <td>0</td>\n    </tr>\n    <tr>\n      <th>1</th>\n      <td>['Overgrow', 'Chlorophyll']</td>\n      <td>1.0</td>\n      <td>1.0</td>\n      <td>1.0</td>\n      <td>0.5</td>\n      <td>0.5</td>\n      <td>0.5</td>\n      <td>2.0</td>\n      <td>2.0</td>\n      <td>1.0</td>\n      <td>...</td>\n      <td>88.1</td>\n      <td>2</td>\n      <td>80</td>\n      <td>80</td>\n      <td>60</td>\n      <td>grass</td>\n      <td>poison</td>\n      <td>13.0</td>\n      <td>1</td>\n      <td>0</td>\n    </tr>\n    <tr>\n      <th>2</th>\n      <td>['Overgrow', 'Chlorophyll']</td>\n      <td>1.0</td>\n      <td>1.0</td>\n      <td>1.0</td>\n      <td>0.5</td>\n      <td>0.5</td>\n      <td>0.5</td>\n      <td>2.0</td>\n      <td>2.0</td>\n      <td>1.0</td>\n      <td>...</td>\n      <td>88.1</td>\n      <td>3</td>\n      <td>122</td>\n      <td>120</td>\n      <td>80</td>\n      <td>grass</td>\n      <td>poison</td>\n      <td>100.0</td>\n      <td>1</td>\n      <td>0</td>\n    </tr>\n    <tr>\n      <th>3</th>\n      <td>['Blaze', 'Solar Power']</td>\n      <td>0.5</td>\n      <td>1.0</td>\n      <td>1.0</td>\n      <td>1.0</td>\n      <td>0.5</td>\n      <td>1.0</td>\n      <td>0.5</td>\n      <td>1.0</td>\n      <td>1.0</td>\n      <td>...</td>\n      <td>88.1</td>\n      <td>4</td>\n      <td>60</td>\n      <td>50</td>\n      <td>65</td>\n      <td>fire</td>\n      <td>NaN</td>\n      <td>8.5</td>\n      <td>1</td>\n      <td>0</td>\n    </tr>\n    <tr>\n      <th>4</th>\n      <td>['Blaze', 'Solar Power']</td>\n      <td>0.5</td>\n      <td>1.0</td>\n      <td>1.0</td>\n      <td>1.0</td>\n      <td>0.5</td>\n      <td>1.0</td>\n      <td>0.5</td>\n      <td>1.0</td>\n      <td>1.0</td>\n      <td>...</td>\n      <td>88.1</td>\n      <td>5</td>\n      <td>80</td>\n      <td>65</td>\n      <td>80</td>\n      <td>fire</td>\n      <td>NaN</td>\n      <td>19.0</td>\n      <td>1</td>\n      <td>0</td>\n    </tr>\n  </tbody>\n</table>\n<p>5 rows × 41 columns</p>\n</div>",
      "text/plain": "                     abilities  against_bug  against_dark  against_dragon  \\\n0  ['Overgrow', 'Chlorophyll']          1.0           1.0             1.0   \n1  ['Overgrow', 'Chlorophyll']          1.0           1.0             1.0   \n2  ['Overgrow', 'Chlorophyll']          1.0           1.0             1.0   \n3     ['Blaze', 'Solar Power']          0.5           1.0             1.0   \n4     ['Blaze', 'Solar Power']          0.5           1.0             1.0   \n\n   against_electric  against_fairy  against_fight  against_fire  \\\n0               0.5            0.5            0.5           2.0   \n1               0.5            0.5            0.5           2.0   \n2               0.5            0.5            0.5           2.0   \n3               1.0            0.5            1.0           0.5   \n4               1.0            0.5            1.0           0.5   \n\n   against_flying  against_ghost  ...  percentage_male  pokedex_number  \\\n0             2.0            1.0  ...             88.1               1   \n1             2.0            1.0  ...             88.1               2   \n2             2.0            1.0  ...             88.1               3   \n3             1.0            1.0  ...             88.1               4   \n4             1.0            1.0  ...             88.1               5   \n\n   sp_attack  sp_defense  speed  type1   type2  weight_kg  generation  \\\n0         65          65     45  grass  poison        6.9           1   \n1         80          80     60  grass  poison       13.0           1   \n2        122         120     80  grass  poison      100.0           1   \n3         60          50     65   fire     NaN        8.5           1   \n4         80          65     80   fire     NaN       19.0           1   \n\n   is_legendary  \n0             0  \n1             0  \n2             0  \n3             0  \n4             0  \n\n[5 rows x 41 columns]"
     },
     "execution_count": 16,
     "metadata": {},
     "output_type": "execute_result"
    }
   ],
   "source": [
    "gen17.head() # Displays the first 5 rows or the dataframe"
   ]
  },
  {
   "cell_type": "code",
   "execution_count": 17,
   "metadata": {},
   "outputs": [
    {
     "data": {
      "text/html": "<div>\n<style scoped>\n    .dataframe tbody tr th:only-of-type {\n        vertical-align: middle;\n    }\n\n    .dataframe tbody tr th {\n        vertical-align: top;\n    }\n\n    .dataframe thead th {\n        text-align: right;\n    }\n</style>\n<table border=\"1\" class=\"dataframe\">\n  <thead>\n    <tr style=\"text-align: right;\">\n      <th></th>\n      <th>abilities</th>\n      <th>against_bug</th>\n      <th>against_dark</th>\n      <th>against_dragon</th>\n      <th>against_electric</th>\n      <th>against_fairy</th>\n      <th>against_fight</th>\n      <th>against_fire</th>\n      <th>against_flying</th>\n      <th>against_ghost</th>\n      <th>...</th>\n      <th>percentage_male</th>\n      <th>pokedex_number</th>\n      <th>sp_attack</th>\n      <th>sp_defense</th>\n      <th>speed</th>\n      <th>type1</th>\n      <th>type2</th>\n      <th>weight_kg</th>\n      <th>generation</th>\n      <th>is_legendary</th>\n    </tr>\n  </thead>\n  <tbody>\n    <tr>\n      <th>0</th>\n      <td>['Overgrow', 'Chlorophyll']</td>\n      <td>1.00</td>\n      <td>1.0</td>\n      <td>1.0</td>\n      <td>0.5</td>\n      <td>0.5</td>\n      <td>0.5</td>\n      <td>2.0</td>\n      <td>2.0</td>\n      <td>1.0</td>\n      <td>...</td>\n      <td>88.1</td>\n      <td>1</td>\n      <td>65</td>\n      <td>65</td>\n      <td>45</td>\n      <td>grass</td>\n      <td>poison</td>\n      <td>6.9</td>\n      <td>1</td>\n      <td>0</td>\n    </tr>\n    <tr>\n      <th>1</th>\n      <td>['Overgrow', 'Chlorophyll']</td>\n      <td>1.00</td>\n      <td>1.0</td>\n      <td>1.0</td>\n      <td>0.5</td>\n      <td>0.5</td>\n      <td>0.5</td>\n      <td>2.0</td>\n      <td>2.0</td>\n      <td>1.0</td>\n      <td>...</td>\n      <td>88.1</td>\n      <td>2</td>\n      <td>80</td>\n      <td>80</td>\n      <td>60</td>\n      <td>grass</td>\n      <td>poison</td>\n      <td>13.0</td>\n      <td>1</td>\n      <td>0</td>\n    </tr>\n    <tr>\n      <th>2</th>\n      <td>['Overgrow', 'Chlorophyll']</td>\n      <td>1.00</td>\n      <td>1.0</td>\n      <td>1.0</td>\n      <td>0.5</td>\n      <td>0.5</td>\n      <td>0.5</td>\n      <td>2.0</td>\n      <td>2.0</td>\n      <td>1.0</td>\n      <td>...</td>\n      <td>88.1</td>\n      <td>3</td>\n      <td>122</td>\n      <td>120</td>\n      <td>80</td>\n      <td>grass</td>\n      <td>poison</td>\n      <td>100.0</td>\n      <td>1</td>\n      <td>0</td>\n    </tr>\n    <tr>\n      <th>3</th>\n      <td>['Blaze', 'Solar Power']</td>\n      <td>0.50</td>\n      <td>1.0</td>\n      <td>1.0</td>\n      <td>1.0</td>\n      <td>0.5</td>\n      <td>1.0</td>\n      <td>0.5</td>\n      <td>1.0</td>\n      <td>1.0</td>\n      <td>...</td>\n      <td>88.1</td>\n      <td>4</td>\n      <td>60</td>\n      <td>50</td>\n      <td>65</td>\n      <td>fire</td>\n      <td>NaN</td>\n      <td>8.5</td>\n      <td>1</td>\n      <td>0</td>\n    </tr>\n    <tr>\n      <th>4</th>\n      <td>['Blaze', 'Solar Power']</td>\n      <td>0.50</td>\n      <td>1.0</td>\n      <td>1.0</td>\n      <td>1.0</td>\n      <td>0.5</td>\n      <td>1.0</td>\n      <td>0.5</td>\n      <td>1.0</td>\n      <td>1.0</td>\n      <td>...</td>\n      <td>88.1</td>\n      <td>5</td>\n      <td>80</td>\n      <td>65</td>\n      <td>80</td>\n      <td>fire</td>\n      <td>NaN</td>\n      <td>19.0</td>\n      <td>1</td>\n      <td>0</td>\n    </tr>\n    <tr>\n      <th>5</th>\n      <td>['Blaze', 'Solar Power']</td>\n      <td>0.25</td>\n      <td>1.0</td>\n      <td>1.0</td>\n      <td>2.0</td>\n      <td>0.5</td>\n      <td>0.5</td>\n      <td>0.5</td>\n      <td>1.0</td>\n      <td>1.0</td>\n      <td>...</td>\n      <td>88.1</td>\n      <td>6</td>\n      <td>159</td>\n      <td>115</td>\n      <td>100</td>\n      <td>fire</td>\n      <td>flying</td>\n      <td>90.5</td>\n      <td>1</td>\n      <td>0</td>\n    </tr>\n    <tr>\n      <th>6</th>\n      <td>['Torrent', 'Rain Dish']</td>\n      <td>1.00</td>\n      <td>1.0</td>\n      <td>1.0</td>\n      <td>2.0</td>\n      <td>1.0</td>\n      <td>1.0</td>\n      <td>0.5</td>\n      <td>1.0</td>\n      <td>1.0</td>\n      <td>...</td>\n      <td>88.1</td>\n      <td>7</td>\n      <td>50</td>\n      <td>64</td>\n      <td>43</td>\n      <td>water</td>\n      <td>NaN</td>\n      <td>9.0</td>\n      <td>1</td>\n      <td>0</td>\n    </tr>\n    <tr>\n      <th>7</th>\n      <td>['Torrent', 'Rain Dish']</td>\n      <td>1.00</td>\n      <td>1.0</td>\n      <td>1.0</td>\n      <td>2.0</td>\n      <td>1.0</td>\n      <td>1.0</td>\n      <td>0.5</td>\n      <td>1.0</td>\n      <td>1.0</td>\n      <td>...</td>\n      <td>88.1</td>\n      <td>8</td>\n      <td>65</td>\n      <td>80</td>\n      <td>58</td>\n      <td>water</td>\n      <td>NaN</td>\n      <td>22.5</td>\n      <td>1</td>\n      <td>0</td>\n    </tr>\n    <tr>\n      <th>8</th>\n      <td>['Torrent', 'Rain Dish']</td>\n      <td>1.00</td>\n      <td>1.0</td>\n      <td>1.0</td>\n      <td>2.0</td>\n      <td>1.0</td>\n      <td>1.0</td>\n      <td>0.5</td>\n      <td>1.0</td>\n      <td>1.0</td>\n      <td>...</td>\n      <td>88.1</td>\n      <td>9</td>\n      <td>135</td>\n      <td>115</td>\n      <td>78</td>\n      <td>water</td>\n      <td>NaN</td>\n      <td>85.5</td>\n      <td>1</td>\n      <td>0</td>\n    </tr>\n    <tr>\n      <th>9</th>\n      <td>['Shield Dust', 'Run Away']</td>\n      <td>1.00</td>\n      <td>1.0</td>\n      <td>1.0</td>\n      <td>1.0</td>\n      <td>1.0</td>\n      <td>0.5</td>\n      <td>2.0</td>\n      <td>2.0</td>\n      <td>1.0</td>\n      <td>...</td>\n      <td>50.0</td>\n      <td>10</td>\n      <td>20</td>\n      <td>20</td>\n      <td>45</td>\n      <td>bug</td>\n      <td>NaN</td>\n      <td>2.9</td>\n      <td>1</td>\n      <td>0</td>\n    </tr>\n  </tbody>\n</table>\n<p>10 rows × 41 columns</p>\n</div>",
      "text/plain": "                     abilities  against_bug  against_dark  against_dragon  \\\n0  ['Overgrow', 'Chlorophyll']         1.00           1.0             1.0   \n1  ['Overgrow', 'Chlorophyll']         1.00           1.0             1.0   \n2  ['Overgrow', 'Chlorophyll']         1.00           1.0             1.0   \n3     ['Blaze', 'Solar Power']         0.50           1.0             1.0   \n4     ['Blaze', 'Solar Power']         0.50           1.0             1.0   \n5     ['Blaze', 'Solar Power']         0.25           1.0             1.0   \n6     ['Torrent', 'Rain Dish']         1.00           1.0             1.0   \n7     ['Torrent', 'Rain Dish']         1.00           1.0             1.0   \n8     ['Torrent', 'Rain Dish']         1.00           1.0             1.0   \n9  ['Shield Dust', 'Run Away']         1.00           1.0             1.0   \n\n   against_electric  against_fairy  against_fight  against_fire  \\\n0               0.5            0.5            0.5           2.0   \n1               0.5            0.5            0.5           2.0   \n2               0.5            0.5            0.5           2.0   \n3               1.0            0.5            1.0           0.5   \n4               1.0            0.5            1.0           0.5   \n5               2.0            0.5            0.5           0.5   \n6               2.0            1.0            1.0           0.5   \n7               2.0            1.0            1.0           0.5   \n8               2.0            1.0            1.0           0.5   \n9               1.0            1.0            0.5           2.0   \n\n   against_flying  against_ghost  ...  percentage_male  pokedex_number  \\\n0             2.0            1.0  ...             88.1               1   \n1             2.0            1.0  ...             88.1               2   \n2             2.0            1.0  ...             88.1               3   \n3             1.0            1.0  ...             88.1               4   \n4             1.0            1.0  ...             88.1               5   \n5             1.0            1.0  ...             88.1               6   \n6             1.0            1.0  ...             88.1               7   \n7             1.0            1.0  ...             88.1               8   \n8             1.0            1.0  ...             88.1               9   \n9             2.0            1.0  ...             50.0              10   \n\n   sp_attack  sp_defense  speed  type1   type2  weight_kg  generation  \\\n0         65          65     45  grass  poison        6.9           1   \n1         80          80     60  grass  poison       13.0           1   \n2        122         120     80  grass  poison      100.0           1   \n3         60          50     65   fire     NaN        8.5           1   \n4         80          65     80   fire     NaN       19.0           1   \n5        159         115    100   fire  flying       90.5           1   \n6         50          64     43  water     NaN        9.0           1   \n7         65          80     58  water     NaN       22.5           1   \n8        135         115     78  water     NaN       85.5           1   \n9         20          20     45    bug     NaN        2.9           1   \n\n   is_legendary  \n0             0  \n1             0  \n2             0  \n3             0  \n4             0  \n5             0  \n6             0  \n7             0  \n8             0  \n9             0  \n\n[10 rows x 41 columns]"
     },
     "execution_count": 17,
     "metadata": {},
     "output_type": "execute_result"
    }
   ],
   "source": [
    "gen17.head(10) # Optional numerical argument used to display the first 10 rows instead"
   ]
  },
  {
   "cell_type": "markdown",
   "execution_count": null,
   "metadata": {},
   "outputs": [],
   "source": [
    "Now, if you're thinking, \"hey, that's useful, but is there another optional argument to reverse it?\" The answer would technically be no, but, there is another method. This one is aptly named `.tail()`. `.tail()` functions exactly like `.head()` does, execpt it shows the *last* 5 rows in a dataframe. Again though, you can change this with an optional numeric argument."
   ]
  },
  {
   "cell_type": "code",
   "execution_count": 19,
   "metadata": {},
   "outputs": [
    {
     "data": {
      "text/html": "<div>\n<style scoped>\n    .dataframe tbody tr th:only-of-type {\n        vertical-align: middle;\n    }\n\n    .dataframe tbody tr th {\n        vertical-align: top;\n    }\n\n    .dataframe thead th {\n        text-align: right;\n    }\n</style>\n<table border=\"1\" class=\"dataframe\">\n  <thead>\n    <tr style=\"text-align: right;\">\n      <th></th>\n      <th>abilities</th>\n      <th>against_bug</th>\n      <th>against_dark</th>\n      <th>against_dragon</th>\n      <th>against_electric</th>\n      <th>against_fairy</th>\n      <th>against_fight</th>\n      <th>against_fire</th>\n      <th>against_flying</th>\n      <th>against_ghost</th>\n      <th>...</th>\n      <th>percentage_male</th>\n      <th>pokedex_number</th>\n      <th>sp_attack</th>\n      <th>sp_defense</th>\n      <th>speed</th>\n      <th>type1</th>\n      <th>type2</th>\n      <th>weight_kg</th>\n      <th>generation</th>\n      <th>is_legendary</th>\n    </tr>\n  </thead>\n  <tbody>\n    <tr>\n      <th>796</th>\n      <td>['Beast Boost']</td>\n      <td>0.25</td>\n      <td>1.0</td>\n      <td>0.5</td>\n      <td>2.0</td>\n      <td>0.5</td>\n      <td>1.0</td>\n      <td>2.0</td>\n      <td>0.5</td>\n      <td>1.0</td>\n      <td>...</td>\n      <td>NaN</td>\n      <td>797</td>\n      <td>107</td>\n      <td>101</td>\n      <td>61</td>\n      <td>steel</td>\n      <td>flying</td>\n      <td>999.9</td>\n      <td>7</td>\n      <td>1</td>\n    </tr>\n    <tr>\n      <th>797</th>\n      <td>['Beast Boost']</td>\n      <td>1.00</td>\n      <td>1.0</td>\n      <td>0.5</td>\n      <td>0.5</td>\n      <td>0.5</td>\n      <td>2.0</td>\n      <td>4.0</td>\n      <td>1.0</td>\n      <td>1.0</td>\n      <td>...</td>\n      <td>NaN</td>\n      <td>798</td>\n      <td>59</td>\n      <td>31</td>\n      <td>109</td>\n      <td>grass</td>\n      <td>steel</td>\n      <td>0.1</td>\n      <td>7</td>\n      <td>1</td>\n    </tr>\n    <tr>\n      <th>798</th>\n      <td>['Beast Boost']</td>\n      <td>2.00</td>\n      <td>0.5</td>\n      <td>2.0</td>\n      <td>0.5</td>\n      <td>4.0</td>\n      <td>2.0</td>\n      <td>0.5</td>\n      <td>1.0</td>\n      <td>0.5</td>\n      <td>...</td>\n      <td>NaN</td>\n      <td>799</td>\n      <td>97</td>\n      <td>53</td>\n      <td>43</td>\n      <td>dark</td>\n      <td>dragon</td>\n      <td>888.0</td>\n      <td>7</td>\n      <td>1</td>\n    </tr>\n    <tr>\n      <th>799</th>\n      <td>['Prism Armor']</td>\n      <td>2.00</td>\n      <td>2.0</td>\n      <td>1.0</td>\n      <td>1.0</td>\n      <td>1.0</td>\n      <td>0.5</td>\n      <td>1.0</td>\n      <td>1.0</td>\n      <td>2.0</td>\n      <td>...</td>\n      <td>NaN</td>\n      <td>800</td>\n      <td>127</td>\n      <td>89</td>\n      <td>79</td>\n      <td>psychic</td>\n      <td>NaN</td>\n      <td>230.0</td>\n      <td>7</td>\n      <td>1</td>\n    </tr>\n    <tr>\n      <th>800</th>\n      <td>['Soul-Heart']</td>\n      <td>0.25</td>\n      <td>0.5</td>\n      <td>0.0</td>\n      <td>1.0</td>\n      <td>0.5</td>\n      <td>1.0</td>\n      <td>2.0</td>\n      <td>0.5</td>\n      <td>1.0</td>\n      <td>...</td>\n      <td>NaN</td>\n      <td>801</td>\n      <td>130</td>\n      <td>115</td>\n      <td>65</td>\n      <td>steel</td>\n      <td>fairy</td>\n      <td>80.5</td>\n      <td>7</td>\n      <td>1</td>\n    </tr>\n  </tbody>\n</table>\n<p>5 rows × 41 columns</p>\n</div>",
      "text/plain": "           abilities  against_bug  against_dark  against_dragon  \\\n796  ['Beast Boost']         0.25           1.0             0.5   \n797  ['Beast Boost']         1.00           1.0             0.5   \n798  ['Beast Boost']         2.00           0.5             2.0   \n799  ['Prism Armor']         2.00           2.0             1.0   \n800   ['Soul-Heart']         0.25           0.5             0.0   \n\n     against_electric  against_fairy  against_fight  against_fire  \\\n796               2.0            0.5            1.0           2.0   \n797               0.5            0.5            2.0           4.0   \n798               0.5            4.0            2.0           0.5   \n799               1.0            1.0            0.5           1.0   \n800               1.0            0.5            1.0           2.0   \n\n     against_flying  against_ghost  ...  percentage_male  pokedex_number  \\\n796             0.5            1.0  ...              NaN             797   \n797             1.0            1.0  ...              NaN             798   \n798             1.0            0.5  ...              NaN             799   \n799             1.0            2.0  ...              NaN             800   \n800             0.5            1.0  ...              NaN             801   \n\n     sp_attack  sp_defense  speed    type1   type2  weight_kg  generation  \\\n796        107         101     61    steel  flying      999.9           7   \n797         59          31    109    grass   steel        0.1           7   \n798         97          53     43     dark  dragon      888.0           7   \n799        127          89     79  psychic     NaN      230.0           7   \n800        130         115     65    steel   fairy       80.5           7   \n\n     is_legendary  \n796             1  \n797             1  \n798             1  \n799             1  \n800             1  \n\n[5 rows x 41 columns]"
     },
     "execution_count": 19,
     "metadata": {},
     "output_type": "execute_result"
    }
   ],
   "source": [
    "gen17.tail() # Displays the last 5 rows "
   ]
  },
  {
   "cell_type": "code",
   "execution_count": 20,
   "metadata": {},
   "outputs": [
    {
     "data": {
      "text/html": "<div>\n<style scoped>\n    .dataframe tbody tr th:only-of-type {\n        vertical-align: middle;\n    }\n\n    .dataframe tbody tr th {\n        vertical-align: top;\n    }\n\n    .dataframe thead th {\n        text-align: right;\n    }\n</style>\n<table border=\"1\" class=\"dataframe\">\n  <thead>\n    <tr style=\"text-align: right;\">\n      <th></th>\n      <th>abilities</th>\n      <th>against_bug</th>\n      <th>against_dark</th>\n      <th>against_dragon</th>\n      <th>against_electric</th>\n      <th>against_fairy</th>\n      <th>against_fight</th>\n      <th>against_fire</th>\n      <th>against_flying</th>\n      <th>against_ghost</th>\n      <th>...</th>\n      <th>percentage_male</th>\n      <th>pokedex_number</th>\n      <th>sp_attack</th>\n      <th>sp_defense</th>\n      <th>speed</th>\n      <th>type1</th>\n      <th>type2</th>\n      <th>weight_kg</th>\n      <th>generation</th>\n      <th>is_legendary</th>\n    </tr>\n  </thead>\n  <tbody>\n    <tr>\n      <th>798</th>\n      <td>['Beast Boost']</td>\n      <td>2.00</td>\n      <td>0.5</td>\n      <td>2.0</td>\n      <td>0.5</td>\n      <td>4.0</td>\n      <td>2.0</td>\n      <td>0.5</td>\n      <td>1.0</td>\n      <td>0.5</td>\n      <td>...</td>\n      <td>NaN</td>\n      <td>799</td>\n      <td>97</td>\n      <td>53</td>\n      <td>43</td>\n      <td>dark</td>\n      <td>dragon</td>\n      <td>888.0</td>\n      <td>7</td>\n      <td>1</td>\n    </tr>\n    <tr>\n      <th>799</th>\n      <td>['Prism Armor']</td>\n      <td>2.00</td>\n      <td>2.0</td>\n      <td>1.0</td>\n      <td>1.0</td>\n      <td>1.0</td>\n      <td>0.5</td>\n      <td>1.0</td>\n      <td>1.0</td>\n      <td>2.0</td>\n      <td>...</td>\n      <td>NaN</td>\n      <td>800</td>\n      <td>127</td>\n      <td>89</td>\n      <td>79</td>\n      <td>psychic</td>\n      <td>NaN</td>\n      <td>230.0</td>\n      <td>7</td>\n      <td>1</td>\n    </tr>\n    <tr>\n      <th>800</th>\n      <td>['Soul-Heart']</td>\n      <td>0.25</td>\n      <td>0.5</td>\n      <td>0.0</td>\n      <td>1.0</td>\n      <td>0.5</td>\n      <td>1.0</td>\n      <td>2.0</td>\n      <td>0.5</td>\n      <td>1.0</td>\n      <td>...</td>\n      <td>NaN</td>\n      <td>801</td>\n      <td>130</td>\n      <td>115</td>\n      <td>65</td>\n      <td>steel</td>\n      <td>fairy</td>\n      <td>80.5</td>\n      <td>7</td>\n      <td>1</td>\n    </tr>\n  </tbody>\n</table>\n<p>3 rows × 41 columns</p>\n</div>",
      "text/plain": "           abilities  against_bug  against_dark  against_dragon  \\\n798  ['Beast Boost']         2.00           0.5             2.0   \n799  ['Prism Armor']         2.00           2.0             1.0   \n800   ['Soul-Heart']         0.25           0.5             0.0   \n\n     against_electric  against_fairy  against_fight  against_fire  \\\n798               0.5            4.0            2.0           0.5   \n799               1.0            1.0            0.5           1.0   \n800               1.0            0.5            1.0           2.0   \n\n     against_flying  against_ghost  ...  percentage_male  pokedex_number  \\\n798             1.0            0.5  ...              NaN             799   \n799             1.0            2.0  ...              NaN             800   \n800             0.5            1.0  ...              NaN             801   \n\n     sp_attack  sp_defense  speed    type1   type2  weight_kg  generation  \\\n798         97          53     43     dark  dragon      888.0           7   \n799        127          89     79  psychic     NaN      230.0           7   \n800        130         115     65    steel   fairy       80.5           7   \n\n     is_legendary  \n798             1  \n799             1  \n800             1  \n\n[3 rows x 41 columns]"
     },
     "execution_count": 20,
     "metadata": {},
     "output_type": "execute_result"
    }
   ],
   "source": [
    "gen17.tail(3) # Argument added to display only the last 3 rows"
   ]
  },
  {
   "cell_type": "markdown",
   "execution_count": null,
   "metadata": {},
   "outputs": [],
   "source": [
    "## Basic Operations"
   ]
  },
  {
   "cell_type": "code",
   "execution_count": 12,
   "metadata": {},
   "outputs": [
    {
     "data": {
      "text/plain": "Index(['abilities', 'against_bug', 'against_dark', 'against_dragon',\n       'against_electric', 'against_fairy', 'against_fight', 'against_fire',\n       'against_flying', 'against_ghost', 'against_grass', 'against_ground',\n       'against_ice', 'against_normal', 'against_poison', 'against_psychic',\n       'against_rock', 'against_steel', 'against_water', 'attack',\n       'base_egg_steps', 'base_happiness', 'base_total', 'capture_rate',\n       'classfication', 'defense', 'experience_growth', 'height_m', 'hp',\n       'japanese_name', 'name', 'percentage_male', 'pokedex_number',\n       'sp_attack', 'sp_defense', 'speed', 'type1', 'type2', 'weight_kg',\n       'generation', 'is_legendary'],\n      dtype='object')"
     },
     "execution_count": 12,
     "metadata": {},
     "output_type": "execute_result"
    }
   ],
   "source": [
    "# Show the names of each column in the dataframe\n",
    "gen17.columns"
   ]
  },
  {
   "cell_type": "code",
   "execution_count": 13,
   "metadata": {},
   "outputs": [
    {
     "data": {
      "text/html": "<div>\n<style scoped>\n    .dataframe tbody tr th:only-of-type {\n        vertical-align: middle;\n    }\n\n    .dataframe tbody tr th {\n        vertical-align: top;\n    }\n\n    .dataframe thead th {\n        text-align: right;\n    }\n</style>\n<table border=\"1\" class=\"dataframe\">\n  <thead>\n    <tr style=\"text-align: right;\">\n      <th></th>\n      <th>pokedex_number</th>\n      <th>name</th>\n      <th>type1</th>\n    </tr>\n  </thead>\n  <tbody>\n    <tr>\n      <th>0</th>\n      <td>1</td>\n      <td>Bulbasaur</td>\n      <td>grass</td>\n    </tr>\n    <tr>\n      <th>1</th>\n      <td>2</td>\n      <td>Ivysaur</td>\n      <td>grass</td>\n    </tr>\n    <tr>\n      <th>2</th>\n      <td>3</td>\n      <td>Venusaur</td>\n      <td>grass</td>\n    </tr>\n    <tr>\n      <th>3</th>\n      <td>4</td>\n      <td>Charmander</td>\n      <td>fire</td>\n    </tr>\n    <tr>\n      <th>4</th>\n      <td>5</td>\n      <td>Charmeleon</td>\n      <td>fire</td>\n    </tr>\n    <tr>\n      <th>...</th>\n      <td>...</td>\n      <td>...</td>\n      <td>...</td>\n    </tr>\n    <tr>\n      <th>796</th>\n      <td>797</td>\n      <td>Celesteela</td>\n      <td>steel</td>\n    </tr>\n    <tr>\n      <th>797</th>\n      <td>798</td>\n      <td>Kartana</td>\n      <td>grass</td>\n    </tr>\n    <tr>\n      <th>798</th>\n      <td>799</td>\n      <td>Guzzlord</td>\n      <td>dark</td>\n    </tr>\n    <tr>\n      <th>799</th>\n      <td>800</td>\n      <td>Necrozma</td>\n      <td>psychic</td>\n    </tr>\n    <tr>\n      <th>800</th>\n      <td>801</td>\n      <td>Magearna</td>\n      <td>steel</td>\n    </tr>\n  </tbody>\n</table>\n<p>801 rows × 3 columns</p>\n</div>",
      "text/plain": "     pokedex_number        name    type1\n0                 1   Bulbasaur    grass\n1                 2     Ivysaur    grass\n2                 3    Venusaur    grass\n3                 4  Charmander     fire\n4                 5  Charmeleon     fire\n..              ...         ...      ...\n796             797  Celesteela    steel\n797             798     Kartana    grass\n798             799    Guzzlord     dark\n799             800    Necrozma  psychic\n800             801    Magearna    steel\n\n[801 rows x 3 columns]"
     },
     "execution_count": 13,
     "metadata": {},
     "output_type": "execute_result"
    }
   ],
   "source": [
    "gen17[[\"pokedex_number\", \"name\", \"type1\"]]"
   ]
  },
  {
   "cell_type": "code",
   "execution_count": null,
   "metadata": {},
   "outputs": [],
   "source": []
  }
 ]
}