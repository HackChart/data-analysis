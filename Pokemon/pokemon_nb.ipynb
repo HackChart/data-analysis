{
 "cells": [
  {
   "cell_type": "markdown",
   "metadata": {},
   "source": [
    "# Pokemon Data Analysis\n",
    "---\n",
    "Introduction to Data Analysis in python using `pandas`, `numpy`, and `matplotlib`. \n",
    "\n",
    "All data drawn from Kaggle's \"Complete Pokemon Dataset\" for Generations 1 - 7 and a web scraping of Serebii.net for Gen 8.\n",
    "The sites for the original datasets are listed below: \n",
    "- [Generations 1 - 7](https://www.kaggle.com/rounakbanik/pokemon/version/1)\n",
    "- [Generation 8](https://github.com/yaylinda/serebii-parser)  \n",
    "  \n",
    "![Pokeball](https://image.businessinsider.com/5dcee8473afd37158f6c8ab9?width=1100&format=jpeg&auto=webp)"
   ]
  },
  {
   "cell_type": "markdown",
   "metadata": {},
   "source": [
    "## Installing Dependencies\n",
    "--- \n",
    "First, we need to make sure that we have access to the libraries that we need. There are a couple of ways that we could do this, one of which involves conda, but I like `pip`. `Pip`, or the Python Installer Package, solves this pretty easily in a couple lines. "
   ]
  },
  {
   "cell_type": "code",
   "execution_count": null,
   "metadata": {},
   "outputs": [
    {
     "evalue": "Error: Jupyter server crashed. Unable to connect. \r\nError code from jupyter: 1",
     "output_type": "error"
    }
   ],
   "source": [
    "# Install a pip package in the current Jupyter kernel\n",
    "import sys\n",
    "!{sys.executable} -m pip install pandas\n",
    "!{sys.executable} -m pip install matplotlib\n",
    "!{sys.executable} -m pip install xlrd"
   ]
  },
  {
   "cell_type": "markdown",
   "metadata": {},
   "source": [
    "## Importing The Proper Libraries\n",
    "---\n",
    "For this analysis, I'm going to be using `pandas` to interact with the data. Below, we will import the proper libraries and use the preferred shorthand notation for them. \"`pd`\" is common for pandas, while \"`np`\" and \"`plt`\" are common substitions for numpy and matplotlib's plotting functionality. `Regex` or \"`re`\" is also imported for some more complex sorting, but more on that later. "
   ]
  },
  {
   "cell_type": "code",
   "execution_count": null,
   "metadata": {},
   "outputs": [
    {
     "evalue": "Error: Jupyter server crashed. Unable to connect. \r\nError code from jupyter: 1",
     "output_type": "error"
    }
   ],
   "source": [
    "# import pandas and numpy for data analysis\n",
    "import pandas as pd\n",
    "import numpy as np \n",
    "import matplotlib.pyplot as plt\n",
    "import re # TODO: update md documentation"
   ]
  },
  {
   "cell_type": "markdown",
   "metadata": {},
   "source": [
    "## Reading Data Into The Notebook\n",
    "Pandas has a handy set of functions called read_{file extension} that allows you to import your data into a workable format called a dataframe. Both of my files are .CSV, but there are plenty of other supported extensions, including excel and standard .txt files.  "
   ]
  },
  {
   "cell_type": "code",
   "execution_count": 3,
   "metadata": {},
   "outputs": [
    {
     "data": {
      "text/html": "<div>\n<style scoped>\n    .dataframe tbody tr th:only-of-type {\n        vertical-align: middle;\n    }\n\n    .dataframe tbody tr th {\n        vertical-align: top;\n    }\n\n    .dataframe thead th {\n        text-align: right;\n    }\n</style>\n<table border=\"1\" class=\"dataframe\">\n  <thead>\n    <tr style=\"text-align: right;\">\n      <th></th>\n      <th>Pokedex Number</th>\n      <th>Name</th>\n      <th>Type 1</th>\n      <th>Type 2</th>\n      <th>HP</th>\n      <th>Attack</th>\n      <th>Defense</th>\n      <th>Special Attack</th>\n      <th>Special Defense</th>\n      <th>Speed</th>\n      <th>...</th>\n      <th>Against Ground</th>\n      <th>Against Ice</th>\n      <th>Against Normal</th>\n      <th>Against Poison</th>\n      <th>Against Psychic</th>\n      <th>Against Rock</th>\n      <th>Against Steel</th>\n      <th>Against Water</th>\n      <th>Steps to Hatch</th>\n      <th>Experience Growth</th>\n    </tr>\n  </thead>\n  <tbody>\n    <tr>\n      <th>0</th>\n      <td>1</td>\n      <td>Bulbasaur</td>\n      <td>Grass</td>\n      <td>Poison</td>\n      <td>45</td>\n      <td>49</td>\n      <td>49</td>\n      <td>65</td>\n      <td>65</td>\n      <td>45</td>\n      <td>...</td>\n      <td>1.0</td>\n      <td>2.0</td>\n      <td>1.0</td>\n      <td>1.0</td>\n      <td>2</td>\n      <td>1.0</td>\n      <td>1.0</td>\n      <td>0.5</td>\n      <td>5120.0</td>\n      <td>1059860.0</td>\n    </tr>\n    <tr>\n      <th>1</th>\n      <td>2</td>\n      <td>Ivysaur</td>\n      <td>Grass</td>\n      <td>Poison</td>\n      <td>60</td>\n      <td>62</td>\n      <td>63</td>\n      <td>80</td>\n      <td>80</td>\n      <td>60</td>\n      <td>...</td>\n      <td>1.0</td>\n      <td>2.0</td>\n      <td>1.0</td>\n      <td>1.0</td>\n      <td>2</td>\n      <td>1.0</td>\n      <td>1.0</td>\n      <td>0.5</td>\n      <td>5120.0</td>\n      <td>1059860.0</td>\n    </tr>\n    <tr>\n      <th>2</th>\n      <td>3</td>\n      <td>Venusaur</td>\n      <td>Grass</td>\n      <td>Poison</td>\n      <td>80</td>\n      <td>100</td>\n      <td>123</td>\n      <td>122</td>\n      <td>120</td>\n      <td>80</td>\n      <td>...</td>\n      <td>1.0</td>\n      <td>2.0</td>\n      <td>1.0</td>\n      <td>1.0</td>\n      <td>2</td>\n      <td>1.0</td>\n      <td>1.0</td>\n      <td>0.5</td>\n      <td>5120.0</td>\n      <td>1059860.0</td>\n    </tr>\n    <tr>\n      <th>3</th>\n      <td>4</td>\n      <td>Charmander</td>\n      <td>Fire</td>\n      <td>NaN</td>\n      <td>39</td>\n      <td>52</td>\n      <td>43</td>\n      <td>60</td>\n      <td>50</td>\n      <td>65</td>\n      <td>...</td>\n      <td>2.0</td>\n      <td>0.5</td>\n      <td>1.0</td>\n      <td>1.0</td>\n      <td>1</td>\n      <td>2.0</td>\n      <td>0.5</td>\n      <td>2.0</td>\n      <td>5120.0</td>\n      <td>1059860.0</td>\n    </tr>\n    <tr>\n      <th>4</th>\n      <td>5</td>\n      <td>Charmeleon</td>\n      <td>Fire</td>\n      <td>NaN</td>\n      <td>58</td>\n      <td>64</td>\n      <td>58</td>\n      <td>80</td>\n      <td>65</td>\n      <td>80</td>\n      <td>...</td>\n      <td>2.0</td>\n      <td>0.5</td>\n      <td>1.0</td>\n      <td>1.0</td>\n      <td>1</td>\n      <td>2.0</td>\n      <td>0.5</td>\n      <td>2.0</td>\n      <td>5120.0</td>\n      <td>1059860.0</td>\n    </tr>\n    <tr>\n      <th>...</th>\n      <td>...</td>\n      <td>...</td>\n      <td>...</td>\n      <td>...</td>\n      <td>...</td>\n      <td>...</td>\n      <td>...</td>\n      <td>...</td>\n      <td>...</td>\n      <td>...</td>\n      <td>...</td>\n      <td>...</td>\n      <td>...</td>\n      <td>...</td>\n      <td>...</td>\n      <td>...</td>\n      <td>...</td>\n      <td>...</td>\n      <td>...</td>\n      <td>...</td>\n      <td>...</td>\n    </tr>\n    <tr>\n      <th>916</th>\n      <td>886</td>\n      <td>Drakloak</td>\n      <td>Dragon</td>\n      <td>Ghost</td>\n      <td>68</td>\n      <td>80</td>\n      <td>50</td>\n      <td>60</td>\n      <td>50</td>\n      <td>102</td>\n      <td>...</td>\n      <td>1.0</td>\n      <td>2.0</td>\n      <td>0.0</td>\n      <td>0.5</td>\n      <td>1</td>\n      <td>1.0</td>\n      <td>1.0</td>\n      <td>0.5</td>\n      <td>NaN</td>\n      <td>NaN</td>\n    </tr>\n    <tr>\n      <th>917</th>\n      <td>887</td>\n      <td>Dragapult</td>\n      <td>Dragon</td>\n      <td>Ghost</td>\n      <td>88</td>\n      <td>120</td>\n      <td>75</td>\n      <td>100</td>\n      <td>75</td>\n      <td>142</td>\n      <td>...</td>\n      <td>1.0</td>\n      <td>2.0</td>\n      <td>0.0</td>\n      <td>0.5</td>\n      <td>1</td>\n      <td>1.0</td>\n      <td>1.0</td>\n      <td>0.5</td>\n      <td>NaN</td>\n      <td>NaN</td>\n    </tr>\n    <tr>\n      <th>918</th>\n      <td>888</td>\n      <td>Zacian</td>\n      <td>Fairy</td>\n      <td>Steel</td>\n      <td>92</td>\n      <td>130</td>\n      <td>115</td>\n      <td>80</td>\n      <td>115</td>\n      <td>138</td>\n      <td>...</td>\n      <td>2.0</td>\n      <td>0.5</td>\n      <td>0.5</td>\n      <td>0.0</td>\n      <td>0.5</td>\n      <td>0.5</td>\n      <td>1.0</td>\n      <td>1.0</td>\n      <td>NaN</td>\n      <td>NaN</td>\n    </tr>\n    <tr>\n      <th>919</th>\n      <td>889</td>\n      <td>Zamazenta</td>\n      <td>Fighting</td>\n      <td>Steel</td>\n      <td>92</td>\n      <td>130</td>\n      <td>115</td>\n      <td>80</td>\n      <td>115</td>\n      <td>138</td>\n      <td>...</td>\n      <td>2.0</td>\n      <td>0.5</td>\n      <td>0.5</td>\n      <td>0.0</td>\n      <td>1</td>\n      <td>0.5</td>\n      <td>0.5</td>\n      <td>1.0</td>\n      <td>NaN</td>\n      <td>NaN</td>\n    </tr>\n    <tr>\n      <th>920</th>\n      <td>890</td>\n      <td>Eternatus</td>\n      <td>Poison</td>\n      <td>Dragon</td>\n      <td>140</td>\n      <td>85</td>\n      <td>95</td>\n      <td>145</td>\n      <td>95</td>\n      <td>130</td>\n      <td>...</td>\n      <td>2.0</td>\n      <td>2.0</td>\n      <td>1.0</td>\n      <td>0.5</td>\n      <td>2</td>\n      <td>1.0</td>\n      <td>1.0</td>\n      <td>0.5</td>\n      <td>NaN</td>\n      <td>NaN</td>\n    </tr>\n  </tbody>\n</table>\n<p>921 rows × 33 columns</p>\n</div>",
      "text/plain": "     Pokedex Number        Name    Type 1  Type 2   HP  Attack  Defense  \\\n0                 1   Bulbasaur     Grass  Poison   45      49       49   \n1                 2     Ivysaur     Grass  Poison   60      62       63   \n2                 3    Venusaur     Grass  Poison   80     100      123   \n3                 4  Charmander      Fire     NaN   39      52       43   \n4                 5  Charmeleon      Fire     NaN   58      64       58   \n..              ...         ...       ...     ...  ...     ...      ...   \n916             886    Drakloak    Dragon   Ghost   68      80       50   \n917             887   Dragapult    Dragon   Ghost   88     120       75   \n918             888      Zacian     Fairy   Steel   92     130      115   \n919             889   Zamazenta  Fighting   Steel   92     130      115   \n920             890   Eternatus    Poison  Dragon  140      85       95   \n\n     Special Attack  Special Defense  Speed  ...  Against Ground  Against Ice  \\\n0                65               65     45  ...             1.0          2.0   \n1                80               80     60  ...             1.0          2.0   \n2               122              120     80  ...             1.0          2.0   \n3                60               50     65  ...             2.0          0.5   \n4                80               65     80  ...             2.0          0.5   \n..              ...              ...    ...  ...             ...          ...   \n916              60               50    102  ...             1.0          2.0   \n917             100               75    142  ...             1.0          2.0   \n918              80              115    138  ...             2.0          0.5   \n919              80              115    138  ...             2.0          0.5   \n920             145               95    130  ...             2.0          2.0   \n\n     Against Normal  Against Poison  Against Psychic  Against Rock  \\\n0               1.0             1.0                2           1.0   \n1               1.0             1.0                2           1.0   \n2               1.0             1.0                2           1.0   \n3               1.0             1.0                1           2.0   \n4               1.0             1.0                1           2.0   \n..              ...             ...              ...           ...   \n916             0.0             0.5                1           1.0   \n917             0.0             0.5                1           1.0   \n918             0.5             0.0              0.5           0.5   \n919             0.5             0.0                1           0.5   \n920             1.0             0.5                2           1.0   \n\n     Against Steel  Against Water  Steps to Hatch  Experience Growth  \n0              1.0            0.5          5120.0          1059860.0  \n1              1.0            0.5          5120.0          1059860.0  \n2              1.0            0.5          5120.0          1059860.0  \n3              0.5            2.0          5120.0          1059860.0  \n4              0.5            2.0          5120.0          1059860.0  \n..             ...            ...             ...                ...  \n916            1.0            0.5             NaN                NaN  \n917            1.0            0.5             NaN                NaN  \n918            1.0            1.0             NaN                NaN  \n919            0.5            1.0             NaN                NaN  \n920            1.0            0.5             NaN                NaN  \n\n[921 rows x 33 columns]"
     },
     "execution_count": 3,
     "metadata": {},
     "output_type": "execute_result"
    }
   ],
   "source": [
    "pokemon = pd.read_excel(\"pokedex.xlsx\")\n",
    "pokemon"
   ]
  },
  {
   "cell_type": "code",
   "execution_count": 4,
   "metadata": {},
   "outputs": [
    {
     "data": {
      "text/plain": "Index(['Pokedex Number', 'Name', 'Type 1', 'Type 2', 'HP', 'Attack', 'Defense',\n       'Special Attack', 'Special Defense', 'Speed', 'Generation',\n       'Is Legendary', 'Weight (kg)', 'Against Bug', 'Against Dark',\n       'Against Dragon', 'Against Electric', 'Against Fairy',\n       'Against Fighting', 'Against Fire', 'Against Flying', 'Against Ghost',\n       'Against Grass', 'Against Ground', 'Against Ice', 'Against Normal',\n       'Against Poison', 'Against Psychic', 'Against Rock', 'Against Steel',\n       'Against Water', 'Steps to Hatch', 'Experience Growth'],\n      dtype='object')"
     },
     "execution_count": 4,
     "metadata": {},
     "output_type": "execute_result"
    }
   ],
   "source": [
    "pokemon.columns"
   ]
  },
  {
   "cell_type": "code",
   "execution_count": 12,
   "metadata": {},
   "outputs": [
    {
     "data": {
      "text/html": "<div>\n<style scoped>\n    .dataframe tbody tr th:only-of-type {\n        vertical-align: middle;\n    }\n\n    .dataframe tbody tr th {\n        vertical-align: top;\n    }\n\n    .dataframe thead th {\n        text-align: right;\n    }\n</style>\n<table border=\"1\" class=\"dataframe\">\n  <thead>\n    <tr style=\"text-align: right;\">\n      <th></th>\n      <th>Pokedex Number</th>\n      <th>Name</th>\n      <th>Type 1</th>\n      <th>Type 2</th>\n      <th>HP</th>\n      <th>Attack</th>\n      <th>Defense</th>\n      <th>Special Attack</th>\n      <th>Special Defense</th>\n      <th>Speed</th>\n      <th>...</th>\n      <th>Against Ground</th>\n      <th>Against Ice</th>\n      <th>Against Normal</th>\n      <th>Against Poison</th>\n      <th>Against Psychic</th>\n      <th>Against Rock</th>\n      <th>Against Steel</th>\n      <th>Against Water</th>\n      <th>Steps to Hatch</th>\n      <th>Experience Growth</th>\n    </tr>\n  </thead>\n  <tbody>\n    <tr>\n      <th>0</th>\n      <td>1</td>\n      <td>Bulbasaur</td>\n      <td>Grass</td>\n      <td>Poison</td>\n      <td>45</td>\n      <td>49</td>\n      <td>49</td>\n      <td>65</td>\n      <td>65</td>\n      <td>45</td>\n      <td>...</td>\n      <td>1.0</td>\n      <td>2.0</td>\n      <td>1.0</td>\n      <td>1.0</td>\n      <td>2</td>\n      <td>1.0</td>\n      <td>1.0</td>\n      <td>0.50</td>\n      <td>5120.0</td>\n      <td>1059860.0</td>\n    </tr>\n    <tr>\n      <th>1</th>\n      <td>2</td>\n      <td>Ivysaur</td>\n      <td>Grass</td>\n      <td>Poison</td>\n      <td>60</td>\n      <td>62</td>\n      <td>63</td>\n      <td>80</td>\n      <td>80</td>\n      <td>60</td>\n      <td>...</td>\n      <td>1.0</td>\n      <td>2.0</td>\n      <td>1.0</td>\n      <td>1.0</td>\n      <td>2</td>\n      <td>1.0</td>\n      <td>1.0</td>\n      <td>0.50</td>\n      <td>5120.0</td>\n      <td>1059860.0</td>\n    </tr>\n    <tr>\n      <th>2</th>\n      <td>3</td>\n      <td>Venusaur</td>\n      <td>Grass</td>\n      <td>Poison</td>\n      <td>80</td>\n      <td>100</td>\n      <td>123</td>\n      <td>122</td>\n      <td>120</td>\n      <td>80</td>\n      <td>...</td>\n      <td>1.0</td>\n      <td>2.0</td>\n      <td>1.0</td>\n      <td>1.0</td>\n      <td>2</td>\n      <td>1.0</td>\n      <td>1.0</td>\n      <td>0.50</td>\n      <td>5120.0</td>\n      <td>1059860.0</td>\n    </tr>\n    <tr>\n      <th>49</th>\n      <td>43</td>\n      <td>Oddish</td>\n      <td>Grass</td>\n      <td>Poison</td>\n      <td>45</td>\n      <td>50</td>\n      <td>55</td>\n      <td>75</td>\n      <td>65</td>\n      <td>30</td>\n      <td>...</td>\n      <td>1.0</td>\n      <td>2.0</td>\n      <td>1.0</td>\n      <td>1.0</td>\n      <td>2</td>\n      <td>1.0</td>\n      <td>1.0</td>\n      <td>0.50</td>\n      <td>5120.0</td>\n      <td>1059860.0</td>\n    </tr>\n    <tr>\n      <th>50</th>\n      <td>44</td>\n      <td>Gloom</td>\n      <td>Grass</td>\n      <td>Poison</td>\n      <td>60</td>\n      <td>65</td>\n      <td>70</td>\n      <td>85</td>\n      <td>75</td>\n      <td>40</td>\n      <td>...</td>\n      <td>1.0</td>\n      <td>2.0</td>\n      <td>1.0</td>\n      <td>1.0</td>\n      <td>2</td>\n      <td>1.0</td>\n      <td>1.0</td>\n      <td>0.50</td>\n      <td>5120.0</td>\n      <td>1059860.0</td>\n    </tr>\n    <tr>\n      <th>...</th>\n      <td>...</td>\n      <td>...</td>\n      <td>...</td>\n      <td>...</td>\n      <td>...</td>\n      <td>...</td>\n      <td>...</td>\n      <td>...</td>\n      <td>...</td>\n      <td>...</td>\n      <td>...</td>\n      <td>...</td>\n      <td>...</td>\n      <td>...</td>\n      <td>...</td>\n      <td>...</td>\n      <td>...</td>\n      <td>...</td>\n      <td>...</td>\n      <td>...</td>\n      <td>...</td>\n    </tr>\n    <tr>\n      <th>859</th>\n      <td>829</td>\n      <td>Gossifleur</td>\n      <td>Grass</td>\n      <td>NaN</td>\n      <td>40</td>\n      <td>40</td>\n      <td>60</td>\n      <td>40</td>\n      <td>60</td>\n      <td>10</td>\n      <td>...</td>\n      <td>0.5</td>\n      <td>2.0</td>\n      <td>1.0</td>\n      <td>2.0</td>\n      <td>1</td>\n      <td>1.0</td>\n      <td>1.0</td>\n      <td>0.50</td>\n      <td>NaN</td>\n      <td>NaN</td>\n    </tr>\n    <tr>\n      <th>860</th>\n      <td>830</td>\n      <td>Eldegoss</td>\n      <td>Grass</td>\n      <td>NaN</td>\n      <td>60</td>\n      <td>50</td>\n      <td>90</td>\n      <td>80</td>\n      <td>120</td>\n      <td>60</td>\n      <td>...</td>\n      <td>0.5</td>\n      <td>2.0</td>\n      <td>1.0</td>\n      <td>2.0</td>\n      <td>1</td>\n      <td>1.0</td>\n      <td>1.0</td>\n      <td>0.50</td>\n      <td>NaN</td>\n      <td>NaN</td>\n    </tr>\n    <tr>\n      <th>870</th>\n      <td>840</td>\n      <td>Applin</td>\n      <td>Grass</td>\n      <td>Dragon</td>\n      <td>40</td>\n      <td>40</td>\n      <td>80</td>\n      <td>40</td>\n      <td>40</td>\n      <td>20</td>\n      <td>...</td>\n      <td>0.5</td>\n      <td>4.0</td>\n      <td>1.0</td>\n      <td>2.0</td>\n      <td>1</td>\n      <td>1.0</td>\n      <td>1.0</td>\n      <td>0.25</td>\n      <td>NaN</td>\n      <td>NaN</td>\n    </tr>\n    <tr>\n      <th>871</th>\n      <td>841</td>\n      <td>Flapple</td>\n      <td>Grass</td>\n      <td>Dragon</td>\n      <td>70</td>\n      <td>110</td>\n      <td>80</td>\n      <td>95</td>\n      <td>60</td>\n      <td>70</td>\n      <td>...</td>\n      <td>0.5</td>\n      <td>4.0</td>\n      <td>1.0</td>\n      <td>2.0</td>\n      <td>1</td>\n      <td>1.0</td>\n      <td>1.0</td>\n      <td>0.25</td>\n      <td>NaN</td>\n      <td>NaN</td>\n    </tr>\n    <tr>\n      <th>872</th>\n      <td>842</td>\n      <td>Appletun</td>\n      <td>Grass</td>\n      <td>Dragon</td>\n      <td>110</td>\n      <td>85</td>\n      <td>80</td>\n      <td>100</td>\n      <td>80</td>\n      <td>30</td>\n      <td>...</td>\n      <td>0.5</td>\n      <td>4.0</td>\n      <td>1.0</td>\n      <td>2.0</td>\n      <td>1</td>\n      <td>1.0</td>\n      <td>1.0</td>\n      <td>0.25</td>\n      <td>NaN</td>\n      <td>NaN</td>\n    </tr>\n  </tbody>\n</table>\n<p>106 rows × 33 columns</p>\n</div>",
      "text/plain": "     Pokedex Number        Name Type 1  Type 2   HP  Attack  Defense  \\\n0                 1   Bulbasaur  Grass  Poison   45      49       49   \n1                 2     Ivysaur  Grass  Poison   60      62       63   \n2                 3    Venusaur  Grass  Poison   80     100      123   \n49               43      Oddish  Grass  Poison   45      50       55   \n50               44       Gloom  Grass  Poison   60      65       70   \n..              ...         ...    ...     ...  ...     ...      ...   \n859             829  Gossifleur  Grass     NaN   40      40       60   \n860             830    Eldegoss  Grass     NaN   60      50       90   \n870             840      Applin  Grass  Dragon   40      40       80   \n871             841     Flapple  Grass  Dragon   70     110       80   \n872             842    Appletun  Grass  Dragon  110      85       80   \n\n     Special Attack  Special Defense  Speed  ...  Against Ground  Against Ice  \\\n0                65               65     45  ...             1.0          2.0   \n1                80               80     60  ...             1.0          2.0   \n2               122              120     80  ...             1.0          2.0   \n49               75               65     30  ...             1.0          2.0   \n50               85               75     40  ...             1.0          2.0   \n..              ...              ...    ...  ...             ...          ...   \n859              40               60     10  ...             0.5          2.0   \n860              80              120     60  ...             0.5          2.0   \n870              40               40     20  ...             0.5          4.0   \n871              95               60     70  ...             0.5          4.0   \n872             100               80     30  ...             0.5          4.0   \n\n     Against Normal  Against Poison  Against Psychic  Against Rock  \\\n0               1.0             1.0                2           1.0   \n1               1.0             1.0                2           1.0   \n2               1.0             1.0                2           1.0   \n49              1.0             1.0                2           1.0   \n50              1.0             1.0                2           1.0   \n..              ...             ...              ...           ...   \n859             1.0             2.0                1           1.0   \n860             1.0             2.0                1           1.0   \n870             1.0             2.0                1           1.0   \n871             1.0             2.0                1           1.0   \n872             1.0             2.0                1           1.0   \n\n     Against Steel  Against Water  Steps to Hatch  Experience Growth  \n0              1.0           0.50          5120.0          1059860.0  \n1              1.0           0.50          5120.0          1059860.0  \n2              1.0           0.50          5120.0          1059860.0  \n49             1.0           0.50          5120.0          1059860.0  \n50             1.0           0.50          5120.0          1059860.0  \n..             ...            ...             ...                ...  \n859            1.0           0.50             NaN                NaN  \n860            1.0           0.50             NaN                NaN  \n870            1.0           0.25             NaN                NaN  \n871            1.0           0.25             NaN                NaN  \n872            1.0           0.25             NaN                NaN  \n\n[106 rows x 33 columns]"
     },
     "execution_count": 12,
     "metadata": {},
     "output_type": "execute_result"
    }
   ],
   "source": [
    "# Creates a new df containing only pokemon that have Grass as one of their typings \n",
    "grass = pokemon.loc[(pokemon[\"Type 1\"] == \"Grass\") | (pokemon[\"Type 2\"] == \"Grass\")]\n",
    "grass"
   ]
  },
  {
   "cell_type": "code",
   "execution_count": null,
   "metadata": {},
   "outputs": [],
   "source": [
    "fire == pokemon.loc[(pokemon[\"Type 1\"] == \"Fire\") | (pokemon[\"Type 2\"] == \"Fire\")]\n",
    "fire"
   ]
  },
  {
   "cell_type": "code",
   "execution_count": 13,
   "metadata": {},
   "outputs": [
    {
     "data": {
      "text/plain": "<bound method NDFrame.describe of      Pokedex Number        Name Type 1  Type 2   HP  Attack  Defense  \\\n0                 1   Bulbasaur  Grass  Poison   45      49       49   \n1                 2     Ivysaur  Grass  Poison   60      62       63   \n2                 3    Venusaur  Grass  Poison   80     100      123   \n49               43      Oddish  Grass  Poison   45      50       55   \n50               44       Gloom  Grass  Poison   60      65       70   \n..              ...         ...    ...     ...  ...     ...      ...   \n859             829  Gossifleur  Grass     NaN   40      40       60   \n860             830    Eldegoss  Grass     NaN   60      50       90   \n870             840      Applin  Grass  Dragon   40      40       80   \n871             841     Flapple  Grass  Dragon   70     110       80   \n872             842    Appletun  Grass  Dragon  110      85       80   \n\n     Special Attack  Special Defense  Speed  ...  Against Ground  Against Ice  \\\n0                65               65     45  ...             1.0          2.0   \n1                80               80     60  ...             1.0          2.0   \n2               122              120     80  ...             1.0          2.0   \n49               75               65     30  ...             1.0          2.0   \n50               85               75     40  ...             1.0          2.0   \n..              ...              ...    ...  ...             ...          ...   \n859              40               60     10  ...             0.5          2.0   \n860              80              120     60  ...             0.5          2.0   \n870              40               40     20  ...             0.5          4.0   \n871              95               60     70  ...             0.5          4.0   \n872             100               80     30  ...             0.5          4.0   \n\n     Against Normal  Against Poison  Against Psychic  Against Rock  \\\n0               1.0             1.0                2           1.0   \n1               1.0             1.0                2           1.0   \n2               1.0             1.0                2           1.0   \n49              1.0             1.0                2           1.0   \n50              1.0             1.0                2           1.0   \n..              ...             ...              ...           ...   \n859             1.0             2.0                1           1.0   \n860             1.0             2.0                1           1.0   \n870             1.0             2.0                1           1.0   \n871             1.0             2.0                1           1.0   \n872             1.0             2.0                1           1.0   \n\n     Against Steel  Against Water  Steps to Hatch  Experience Growth  \n0              1.0           0.50          5120.0          1059860.0  \n1              1.0           0.50          5120.0          1059860.0  \n2              1.0           0.50          5120.0          1059860.0  \n49             1.0           0.50          5120.0          1059860.0  \n50             1.0           0.50          5120.0          1059860.0  \n..             ...            ...             ...                ...  \n859            1.0           0.50             NaN                NaN  \n860            1.0           0.50             NaN                NaN  \n870            1.0           0.25             NaN                NaN  \n871            1.0           0.25             NaN                NaN  \n872            1.0           0.25             NaN                NaN  \n\n[106 rows x 33 columns]>"
     },
     "execution_count": 13,
     "metadata": {},
     "output_type": "execute_result"
    }
   ],
   "source": [
    "grass.describe"
   ]
  },
  {
   "cell_type": "markdown",
   "metadata": {},
   "source": [
    "## Basic Navigation  \n",
    "---\n",
    "However, notice that these datasets are quite large, especially gens 1 - 7, with over 800 rows and 41 columns. As such, not all of it is shown in the output cell. Fortunately, `pandas` has a couple helpful methods that we can use to view the parts we want to see."
   ]
  },
  {
   "cell_type": "markdown",
   "metadata": {},
   "source": [
    "First up, `.head()`. By default, this will display the first 5 rows of the dataframe, however, you can change this by adding a numerical argument for the number of rows you wish to view.  "
   ]
  },
  {
   "cell_type": "markdown",
   "metadata": {},
   "source": [
    "Now, if you're thinking, \"hey, that's useful, but is there another optional argument to reverse it?\" The answer would technically be no, but, there is another method. This one is aptly named `.tail()`. `.tail()` functions exactly like `.head()` does, execpt it shows the *last* 5 rows in a dataframe. Again though, you can change this with an optional numeric argument."
   ]
  },
  {
   "cell_type": "markdown",
   "metadata": {},
   "source": [
    "We can use `.columns` to display the headers of our dataframe"
   ]
  },
  {
   "cell_type": "markdown",
   "metadata": {},
   "source": [
    "Now, let's use these methods to reorganize our data. Currently, the dataframe headers are run alphabetically. While this might be useful in some cases, it isn't in ours. So, let's move things around to resemble a more traditional pokedex."
   ]
  }
 ],
 "metadata": {
  "file_extension": ".py",
  "kernelspec": {
   "display_name": "Python 3.7.4 32-bit",
   "language": "python",
   "name": "python37432bit9fa011013f6b45f8bb5d3ed00d6789ea"
  },
  "language_info": {
   "codemirror_mode": {
    "name": "ipython",
    "version": 3
   },
   "file_extension": ".py",
   "mimetype": "text/x-python",
   "name": "python",
   "nbconvert_exporter": "python",
   "pygments_lexer": "ipython3",
   "version": "3.7.4-final"
  },
  "mimetype": "text/x-python",
  "name": "python",
  "npconvert_exporter": "python",
  "pygments_lexer": "ipython3",
  "version": 3
 },
 "nbformat": 4,
 "nbformat_minor": 4
}